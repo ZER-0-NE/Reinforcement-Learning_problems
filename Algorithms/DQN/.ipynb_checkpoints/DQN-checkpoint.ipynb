{
 "cells": [
  {
   "cell_type": "markdown",
   "metadata": {},
   "source": [
    "## REFERENCES:\n",
    "\n",
    "- [REINFORCEMENT LEARNING (DQN) TUTORIAL Pytorch](https://pytorch.org/tutorials/intermediate/reinforcement_q_learning.html)\n",
    "- [Reinforcement Learning (DQN) tutorial](http://seba1511.net/tutorials/intermediate/reinforcement_q_learning.html)\n",
    "- [Solving a simple rewarding problem using Deep Q-Network (DQN) in 10 mins*\n",
    "](https://medium.com/@kinwo/solving-a-simple-rewarding-problem-using-deep-q-network-dqn-in-10-mins-315fc9004a2b)\n",
    "- [Deep Reinforcement Learning: Build a Deep Q-network(DQN) to Play CartPole with TensorFlow 2 and Gym *](https://towardsdatascience.com/deep-reinforcement-learning-build-a-deep-q-network-dqn-to-play-cartpole-with-tensorflow-2-and-gym-8e105744b998)\n",
    "- [Reinforcement learning – Part 1: Introduction to Q-learning\n",
    "](https://www.novatec-gmbh.de/en/blog/introduction-to-q-learning)\n",
    "- [Deep Q-Learning with Keras and Gym](https://keon.github.io/deep-q-learning/)\n",
    "- [Implementing Deep Reinforcement Learning with PyTorch: Deep Q-Learning](https://www.mlq.ai/deep-reinforcement-learning-pytorch-implementation/)\n",
    "- [Reinforcement learning github Jetson](https://github.com/dusty-nv/jetson-reinforcement/tree/master/python)\n",
    "- [A Deep Dive into Reinforcement Learning](https://www.toptal.com/machine-learning/deep-dive-into-reinforcement-learning)\n",
    "- [Deep Reinforcement learning — Deep Q-learning and Policy Gradients](https://medium.com/deep-math-machine-learning-ai/ch-13-deep-reinforcement-learning-deep-q-learning-and-policy-gradients-towards-agi-a2a0b611617e)\n",
    "- [Deep Reinforcement Learning. Introduction. Deep Q Network (DQN) algorithm.](https://medium.com/@markus.x.buchholz/deep-reinforcement-learning-introduction-deep-q-network-dqn-algorithm-fb74bf4d6862)\n",
    "- [Advanced DQNs: Playing Pac-man with Deep Reinforcement Learning](https://towardsdatascience.com/advanced-dqns-playing-pac-man-with-deep-reinforcement-learning-3ffbd99e0814)\n",
    "- [Deep Reinforcement Learning: Pong from Pixels](https://karpathy.github.io/2016/05/31/rl/)\n",
    "- [Implementing Deep Reinforcement Learning Models with Tensorflow + OpenAI Gym](https://lilianweng.github.io/lil-log/2018/05/05/implementing-deep-reinforcement-learning-models.html)\n",
    "- [Beat Atari with Deep Reinforcement Learning! (Part 1: DQN)](https://becominghuman.ai/lets-build-an-atari-ai-part-1-dqn-df57e8ff3b26)"
   ]
  },
  {
   "cell_type": "code",
   "execution_count": null,
   "metadata": {},
   "outputs": [],
   "source": []
  }
 ],
 "metadata": {
  "kernelspec": {
   "display_name": "Python 3",
   "language": "python",
   "name": "python3"
  },
  "language_info": {
   "codemirror_mode": {
    "name": "ipython",
    "version": 3
   },
   "file_extension": ".py",
   "mimetype": "text/x-python",
   "name": "python",
   "nbconvert_exporter": "python",
   "pygments_lexer": "ipython3",
   "version": "3.7.7"
  }
 },
 "nbformat": 4,
 "nbformat_minor": 4
}
